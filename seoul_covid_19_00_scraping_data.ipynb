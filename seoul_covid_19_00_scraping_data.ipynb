{
  "nbformat": 4,
  "nbformat_minor": 2,
  "metadata": {
    "kernelspec": {
      "name": "python3",
      "display_name": "Python 3.9.1 64-bit"
    },
    "language_info": {
      "codemirror_mode": {
        "name": "ipython",
        "version": 3
      },
      "file_extension": ".py",
      "mimetype": "text/x-python",
      "name": "python",
      "nbconvert_exporter": "python",
      "pygments_lexer": "ipython3",
      "version": "3.9.1"
    },
    "toc": {
      "base_numbering": 1,
      "nav_menu": {},
      "number_sections": true,
      "sideBar": true,
      "skip_h1_title": false,
      "title_cell": "Table of Contents",
      "title_sidebar": "Contents",
      "toc_cell": false,
      "toc_position": {},
      "toc_section_display": true,
      "toc_window_display": false
    },
    "varInspector": {
      "cols": {
        "lenName": 16,
        "lenType": 16,
        "lenVar": 40
      },
      "kernels_config": {
        "python": {
          "delete_cmd_postfix": "",
          "delete_cmd_prefix": "del ",
          "library": "var_list.py",
          "varRefreshCmd": "print(var_dic_list())"
        },
        "r": {
          "delete_cmd_postfix": ") ",
          "delete_cmd_prefix": "rm(",
          "library": "var_list.r",
          "varRefreshCmd": "cat(var_dic_list()) "
        }
      },
      "types_to_exclude": [
        "module",
        "function",
        "builtin_function_or_method",
        "instance",
        "_Feature"
      ],
      "window_display": false
    },
    "colab": {
      "name": "seoul-covid-19-00-scraping-data.ipynb",
      "provenance": []
    },
    "interpreter": {
      "hash": "d5a1a4f6ce25169582ebad7c485937375383d04532466ebacf8813c3dcbf00c9"
    }
  },
  "cells": [
    {
      "cell_type": "code",
      "execution_count": 1,
      "source": [
        "# 필요한 라이브러리를 불러옵니다.\r\n",
        "import pandas as pd\r\n",
        "import numpy as np"
      ],
      "outputs": [],
      "metadata": {
        "id": "qMhdzNFx6qAz"
      }
    },
    {
      "cell_type": "code",
      "execution_count": 2,
      "source": [
        "# 크롤링으로 가져올 url 주소를 입력합니다.\r\n",
        "url = \"http://www.seoul.go.kr/coronaV/coronaStatus.do\"\r\n",
        "print(url)"
      ],
      "outputs": [
        {
          "output_type": "stream",
          "name": "stdout",
          "text": [
            "http://www.seoul.go.kr/coronaV/coronaStatus.do\n"
          ]
        }
      ],
      "metadata": {
        "id": "VZM7Jecw6qA1"
      }
    },
    {
      "cell_type": "code",
      "execution_count": 3,
      "source": [
        "!pip install lxml\r\n",
        "!pip install urllib"
      ],
      "outputs": [
        {
          "output_type": "stream",
          "name": "stdout",
          "text": [
            "Requirement already satisfied: lxml in c:\\users\\dain\\appdata\\local\\programs\\python\\python39\\lib\\site-packages (4.6.3)\n"
          ]
        },
        {
          "output_type": "stream",
          "name": "stderr",
          "text": [
            "ERROR: Could not find a version that satisfies the requirement urllib (from versions: none)\n",
            "ERROR: No matching distribution found for urllib\n"
          ]
        }
      ],
      "metadata": {}
    },
    {
      "cell_type": "code",
      "execution_count": 4,
      "source": [
        "\"\"\"\r\n",
        "11월 중순 이후 확진자가 증가하면서 데이터 공개 방식이 달라져서 pandas 의 read_html 로는 불러올 수가 없습니다.\r\n",
        "기존의 read_html 로는 컬럼명을 불러오고 데이터는 requests 라는 라이브러리를 통해 읽어옵니다.\r\n",
        "\"\"\""
      ],
      "outputs": [
        {
          "output_type": "execute_result",
          "data": {
            "text/plain": [
              "'\\n11월 중순 이후 확진자가 증가하면서 데이터 공개 방식이 달라져서 pandas 의 read_html 로는 불러올 수가 없습니다.\\n기존의 read_html 로는 컬럼명을 불러오고 데이터는 requests 라는 라이브러리를 통해 읽어옵니다.\\n'"
            ]
          },
          "metadata": {},
          "execution_count": 4
        }
      ],
      "metadata": {
        "id": "z5QILajq6qA1"
      }
    },
    {
      "cell_type": "code",
      "execution_count": 5,
      "source": [
        "# pandas의 read_html : url에 있는 table을 불러오는 함수.\r\n",
        "table = pd.read_html(url)\r\n",
        "print(table[5])"
      ],
      "outputs": [
        {
          "output_type": "stream",
          "name": "stdout",
          "text": [
            "Empty DataFrame\n",
            "Columns: [연번, 환자, 확진일, 거주지, 여행력, 접촉력, 퇴원현황]\n",
            "Index: []\n"
          ]
        }
      ],
      "metadata": {
        "scrolled": true,
        "id": "3SRGinwl6qA1"
      }
    },
    {
      "cell_type": "code",
      "execution_count": 6,
      "source": [
        "len(table)"
      ],
      "outputs": [
        {
          "output_type": "execute_result",
          "data": {
            "text/plain": [
              "8"
            ]
          },
          "metadata": {},
          "execution_count": 6
        }
      ],
      "metadata": {
        "id": "8LMAGSPf6qA2"
      }
    },
    {
      "cell_type": "code",
      "execution_count": 7,
      "source": [
        "# read_html 은 사이트 내의 html 태그를 불러옵니다.\r\n",
        "# table 변수 안에 있는 table 태그의 값을 하나씩 읽어보며 확진자 목록이 있는 테이블을 가져옵니다.\r\n",
        "table[0]"
      ],
      "outputs": [
        {
          "output_type": "execute_result",
          "data": {
            "text/html": [
              "<div>\n",
              "<style scoped>\n",
              "    .dataframe tbody tr th:only-of-type {\n",
              "        vertical-align: middle;\n",
              "    }\n",
              "\n",
              "    .dataframe tbody tr th {\n",
              "        vertical-align: top;\n",
              "    }\n",
              "\n",
              "    .dataframe thead th {\n",
              "        text-align: right;\n",
              "    }\n",
              "</style>\n",
              "<table border=\"1\" class=\"dataframe\">\n",
              "  <thead>\n",
              "    <tr style=\"text-align: right;\">\n",
              "      <th></th>\n",
              "      <th>강남구</th>\n",
              "      <th>강동구</th>\n",
              "      <th>강북구</th>\n",
              "      <th>강서구</th>\n",
              "      <th>관악구</th>\n",
              "      <th>광진구</th>\n",
              "      <th>구로구</th>\n",
              "      <th>금천구</th>\n",
              "      <th>노원구</th>\n",
              "      <th>도봉구</th>\n",
              "      <th>동대문구</th>\n",
              "      <th>동작구</th>\n",
              "      <th>마포구</th>\n",
              "    </tr>\n",
              "  </thead>\n",
              "  <tbody>\n",
              "    <tr>\n",
              "      <th>0</th>\n",
              "      <td>7235</td>\n",
              "      <td>4124</td>\n",
              "      <td>2870</td>\n",
              "      <td>4708</td>\n",
              "      <td>5658</td>\n",
              "      <td>3691</td>\n",
              "      <td>4658</td>\n",
              "      <td>2275</td>\n",
              "      <td>4150</td>\n",
              "      <td>2809</td>\n",
              "      <td>3881</td>\n",
              "      <td>4331</td>\n",
              "      <td>3969</td>\n",
              "    </tr>\n",
              "    <tr>\n",
              "      <th>1</th>\n",
              "      <td>+31</td>\n",
              "      <td>+41</td>\n",
              "      <td>+31</td>\n",
              "      <td>+24</td>\n",
              "      <td>+25</td>\n",
              "      <td>+20</td>\n",
              "      <td>+56</td>\n",
              "      <td>+25</td>\n",
              "      <td>+38</td>\n",
              "      <td>+22</td>\n",
              "      <td>+39</td>\n",
              "      <td>+31</td>\n",
              "      <td>+34</td>\n",
              "    </tr>\n",
              "    <tr>\n",
              "      <th>2</th>\n",
              "      <td>서대문구</td>\n",
              "      <td>서초구</td>\n",
              "      <td>성동구</td>\n",
              "      <td>성북구</td>\n",
              "      <td>송파구</td>\n",
              "      <td>양천구</td>\n",
              "      <td>영등포구</td>\n",
              "      <td>용산구</td>\n",
              "      <td>은평구</td>\n",
              "      <td>종로구</td>\n",
              "      <td>중구</td>\n",
              "      <td>중랑구</td>\n",
              "      <td>기타</td>\n",
              "    </tr>\n",
              "    <tr>\n",
              "      <th>3</th>\n",
              "      <td>2874</td>\n",
              "      <td>4440</td>\n",
              "      <td>3005</td>\n",
              "      <td>4031</td>\n",
              "      <td>6740</td>\n",
              "      <td>3505</td>\n",
              "      <td>4768</td>\n",
              "      <td>2853</td>\n",
              "      <td>4553</td>\n",
              "      <td>1816</td>\n",
              "      <td>1875</td>\n",
              "      <td>3984</td>\n",
              "      <td>7529</td>\n",
              "    </tr>\n",
              "    <tr>\n",
              "      <th>4</th>\n",
              "      <td>+21</td>\n",
              "      <td>+22</td>\n",
              "      <td>+10</td>\n",
              "      <td>+31</td>\n",
              "      <td>+44</td>\n",
              "      <td>+31</td>\n",
              "      <td>+41</td>\n",
              "      <td>+13</td>\n",
              "      <td>+36</td>\n",
              "      <td>+30</td>\n",
              "      <td>+12</td>\n",
              "      <td>+36</td>\n",
              "      <td>+32</td>\n",
              "    </tr>\n",
              "  </tbody>\n",
              "</table>\n",
              "</div>"
            ],
            "text/plain": [
              "    강남구   강동구   강북구   강서구   관악구   광진구   구로구   금천구   노원구   도봉구  동대문구   동작구  \\\n",
              "0  7235  4124  2870  4708  5658  3691  4658  2275  4150  2809  3881  4331   \n",
              "1   +31   +41   +31   +24   +25   +20   +56   +25   +38   +22   +39   +31   \n",
              "2  서대문구   서초구   성동구   성북구   송파구   양천구  영등포구   용산구   은평구   종로구    중구   중랑구   \n",
              "3  2874  4440  3005  4031  6740  3505  4768  2853  4553  1816  1875  3984   \n",
              "4   +21   +22   +10   +31   +44   +31   +41   +13   +36   +30   +12   +36   \n",
              "\n",
              "    마포구  \n",
              "0  3969  \n",
              "1   +34  \n",
              "2    기타  \n",
              "3  7529  \n",
              "4   +32  "
            ]
          },
          "metadata": {},
          "execution_count": 7
        }
      ],
      "metadata": {
        "id": "-19DT74a6qA2"
      }
    },
    {
      "cell_type": "code",
      "execution_count": 8,
      "source": [
        "table[1]"
      ],
      "outputs": [
        {
          "output_type": "execute_result",
          "data": {
            "text/html": [
              "<div>\n",
              "<style scoped>\n",
              "    .dataframe tbody tr th:only-of-type {\n",
              "        vertical-align: middle;\n",
              "    }\n",
              "\n",
              "    .dataframe tbody tr th {\n",
              "        vertical-align: top;\n",
              "    }\n",
              "\n",
              "    .dataframe thead th {\n",
              "        text-align: right;\n",
              "    }\n",
              "</style>\n",
              "<table border=\"1\" class=\"dataframe\">\n",
              "  <thead>\n",
              "    <tr style=\"text-align: right;\">\n",
              "      <th></th>\n",
              "      <th>강남구</th>\n",
              "      <th>강동구</th>\n",
              "      <th>강북구</th>\n",
              "      <th>강서구</th>\n",
              "      <th>관악구</th>\n",
              "      <th>광진구</th>\n",
              "    </tr>\n",
              "  </thead>\n",
              "  <tbody>\n",
              "    <tr>\n",
              "      <th>0</th>\n",
              "      <td>7235</td>\n",
              "      <td>4124</td>\n",
              "      <td>2870</td>\n",
              "      <td>4708</td>\n",
              "      <td>5658</td>\n",
              "      <td>3691</td>\n",
              "    </tr>\n",
              "    <tr>\n",
              "      <th>1</th>\n",
              "      <td>+31</td>\n",
              "      <td>+41</td>\n",
              "      <td>+31</td>\n",
              "      <td>+24</td>\n",
              "      <td>+25</td>\n",
              "      <td>+20</td>\n",
              "    </tr>\n",
              "    <tr>\n",
              "      <th>2</th>\n",
              "      <td>구로구</td>\n",
              "      <td>금천구</td>\n",
              "      <td>노원구</td>\n",
              "      <td>도봉구</td>\n",
              "      <td>동대문구</td>\n",
              "      <td>동작구</td>\n",
              "    </tr>\n",
              "    <tr>\n",
              "      <th>3</th>\n",
              "      <td>4658</td>\n",
              "      <td>2275</td>\n",
              "      <td>4150</td>\n",
              "      <td>2809</td>\n",
              "      <td>3881</td>\n",
              "      <td>4331</td>\n",
              "    </tr>\n",
              "    <tr>\n",
              "      <th>4</th>\n",
              "      <td>+56</td>\n",
              "      <td>+25</td>\n",
              "      <td>+38</td>\n",
              "      <td>+22</td>\n",
              "      <td>+39</td>\n",
              "      <td>+31</td>\n",
              "    </tr>\n",
              "    <tr>\n",
              "      <th>5</th>\n",
              "      <td>마포구</td>\n",
              "      <td>서대문구</td>\n",
              "      <td>서초구</td>\n",
              "      <td>성동구</td>\n",
              "      <td>성북구</td>\n",
              "      <td>송파구</td>\n",
              "    </tr>\n",
              "    <tr>\n",
              "      <th>6</th>\n",
              "      <td>3969</td>\n",
              "      <td>2874</td>\n",
              "      <td>4440</td>\n",
              "      <td>3005</td>\n",
              "      <td>4031</td>\n",
              "      <td>6740</td>\n",
              "    </tr>\n",
              "    <tr>\n",
              "      <th>7</th>\n",
              "      <td>+34</td>\n",
              "      <td>+21</td>\n",
              "      <td>+22</td>\n",
              "      <td>+10</td>\n",
              "      <td>+31</td>\n",
              "      <td>+44</td>\n",
              "    </tr>\n",
              "    <tr>\n",
              "      <th>8</th>\n",
              "      <td>양천구</td>\n",
              "      <td>영등포구</td>\n",
              "      <td>용산구</td>\n",
              "      <td>은평구</td>\n",
              "      <td>종로구</td>\n",
              "      <td>중구</td>\n",
              "    </tr>\n",
              "    <tr>\n",
              "      <th>9</th>\n",
              "      <td>3505</td>\n",
              "      <td>4768</td>\n",
              "      <td>2853</td>\n",
              "      <td>4553</td>\n",
              "      <td>1816</td>\n",
              "      <td>1875</td>\n",
              "    </tr>\n",
              "    <tr>\n",
              "      <th>10</th>\n",
              "      <td>+31</td>\n",
              "      <td>+41</td>\n",
              "      <td>+13</td>\n",
              "      <td>+36</td>\n",
              "      <td>+30</td>\n",
              "      <td>+12</td>\n",
              "    </tr>\n",
              "    <tr>\n",
              "      <th>11</th>\n",
              "      <td>중랑구</td>\n",
              "      <td>기타</td>\n",
              "      <td>NaN</td>\n",
              "      <td>NaN</td>\n",
              "      <td>NaN</td>\n",
              "      <td>NaN</td>\n",
              "    </tr>\n",
              "    <tr>\n",
              "      <th>12</th>\n",
              "      <td>3984</td>\n",
              "      <td>7529</td>\n",
              "      <td>NaN</td>\n",
              "      <td>NaN</td>\n",
              "      <td>NaN</td>\n",
              "      <td>NaN</td>\n",
              "    </tr>\n",
              "    <tr>\n",
              "      <th>13</th>\n",
              "      <td>+36</td>\n",
              "      <td>+32</td>\n",
              "      <td>NaN</td>\n",
              "      <td>NaN</td>\n",
              "      <td>NaN</td>\n",
              "      <td>NaN</td>\n",
              "    </tr>\n",
              "  </tbody>\n",
              "</table>\n",
              "</div>"
            ],
            "text/plain": [
              "     강남구   강동구   강북구   강서구   관악구   광진구\n",
              "0   7235  4124  2870  4708  5658  3691\n",
              "1    +31   +41   +31   +24   +25   +20\n",
              "2    구로구   금천구   노원구   도봉구  동대문구   동작구\n",
              "3   4658  2275  4150  2809  3881  4331\n",
              "4    +56   +25   +38   +22   +39   +31\n",
              "5    마포구  서대문구   서초구   성동구   성북구   송파구\n",
              "6   3969  2874  4440  3005  4031  6740\n",
              "7    +34   +21   +22   +10   +31   +44\n",
              "8    양천구  영등포구   용산구   은평구   종로구    중구\n",
              "9   3505  4768  2853  4553  1816  1875\n",
              "10   +31   +41   +13   +36   +30   +12\n",
              "11   중랑구    기타   NaN   NaN   NaN   NaN\n",
              "12  3984  7529   NaN   NaN   NaN   NaN\n",
              "13   +36   +32   NaN   NaN   NaN   NaN"
            ]
          },
          "metadata": {},
          "execution_count": 8
        }
      ],
      "metadata": {
        "id": "2A9xaher6qA3"
      }
    },
    {
      "cell_type": "code",
      "execution_count": 9,
      "source": [
        "# 미리보기 합니다.\r\n",
        "# 코로나 초기만 하더라도 환자수가 지금보다 적었기 때문에 서울 확진자 현황 데이터를 웹사이트 한 개 페이지에 모두 출력할 수 있었지만, 시간이 흐를수록 환자수가 증가하여 여러 개 페이지(1, 2, 3, ...)로 나눠서 출력하는 방식으로 변경되었습니다.\r\n",
        "df = table[5]\r\n",
        "df.head()"
      ],
      "outputs": [
        {
          "output_type": "execute_result",
          "data": {
            "text/html": [
              "<div>\n",
              "<style scoped>\n",
              "    .dataframe tbody tr th:only-of-type {\n",
              "        vertical-align: middle;\n",
              "    }\n",
              "\n",
              "    .dataframe tbody tr th {\n",
              "        vertical-align: top;\n",
              "    }\n",
              "\n",
              "    .dataframe thead th {\n",
              "        text-align: right;\n",
              "    }\n",
              "</style>\n",
              "<table border=\"1\" class=\"dataframe\">\n",
              "  <thead>\n",
              "    <tr style=\"text-align: right;\">\n",
              "      <th></th>\n",
              "      <th>연번</th>\n",
              "      <th>환자</th>\n",
              "      <th>확진일</th>\n",
              "      <th>거주지</th>\n",
              "      <th>여행력</th>\n",
              "      <th>접촉력</th>\n",
              "      <th>퇴원현황</th>\n",
              "    </tr>\n",
              "  </thead>\n",
              "  <tbody>\n",
              "  </tbody>\n",
              "</table>\n",
              "</div>"
            ],
            "text/plain": [
              "Empty DataFrame\n",
              "Columns: [연번, 환자, 확진일, 거주지, 여행력, 접촉력, 퇴원현황]\n",
              "Index: []"
            ]
          },
          "metadata": {},
          "execution_count": 9
        }
      ],
      "metadata": {
        "id": "OceeMrG86qA3"
      }
    },
    {
      "cell_type": "markdown",
      "source": [
        "## 11월 중순 이후 데이터 공개방식 변경"
      ],
      "metadata": {
        "id": "lVj9-aDY6qA4"
      }
    },
    {
      "cell_type": "code",
      "execution_count": 10,
      "source": [
        "import requests"
      ],
      "outputs": [],
      "metadata": {
        "id": "bzTDVzme6qA4"
      }
    },
    {
      "cell_type": "code",
      "execution_count": 11,
      "source": [
        "\r\n",
        "# print(url)\r\n",
        "# url2 = f'https://news.seoul.go.kr/api/27/getCorona19Status/get_status_ajax.php'\r\n",
        "# url2 = f'{url}?draw={3}&columns[0][data]=0&columns[0][name]=&columns[0][searchable]=true&columns[0][orderable]=true&columns[0][search][value]=&columns[0][search][regex]=false&columns[1][data]=1&columns[1][name]=&columns[1][searchable]=true&columns[1][orderable]=true&columns[1][search][value]=&columns[1][search][regex]=false&columns[2][data]=2&columns[2][name]=&columns[2][searchable]=true&columns[2][orderable]=true&columns[2][search][value]=&columns[2][search][regex]=false&columns[3][data]=3&columns[3][name]=&columns[3][searchable]=true&columns[3][orderable]=true&columns[3][search][value]=&columns[3][search][regex]=false&columns[4][data]=4&columns[4][name]=&columns[4][searchable]=true&columns[4][orderable]=true&columns[4][search][value]=&columns[4][search][regex]=false&columns[5][data]=5&columns[5][name]=&columns[5][searchable]=true&columns[5][orderable]=true&columns[5][search][value]=&columns[5][search][regex]=false&columns[6][data]=6&columns[6][name]=&columns[6][searchable]=true&columns[6][orderable]=true&columns[6][search][value]=&columns[6][search][regex]=false&order[0][column]=0&order[0][dir]=desc'\r\n",
        "# url2 = f'{url}&start={200}&length={100}&search[value]=&search[regex]=true&_=1632743530446'"
      ],
      "outputs": [],
      "metadata": {}
    },
    {
      "cell_type": "code",
      "execution_count": 12,
      "source": [
        "!pip install tqdm"
      ],
      "outputs": [
        {
          "output_type": "stream",
          "name": "stdout",
          "text": [
            "Requirement already satisfied: tqdm in c:\\users\\dain\\appdata\\local\\programs\\python\\python39\\lib\\site-packages (4.61.0)\n"
          ]
        }
      ],
      "metadata": {}
    },
    {
      "cell_type": "code",
      "execution_count": 15,
      "source": [
        "from tqdm import trange # view progress status\r\n",
        "\r\n",
        "data_list = []\r\n",
        "\r\n",
        "for page_num in trange(0,564):\r\n",
        "    url = f'https://news.seoul.go.kr/api/27/getCorona19Status/get_status_ajax.php'\r\n",
        "    url = f'{url}?draw={page_num+1}&columns[0][data]=0&columns[0][name]=&columns[0][searchable]=true&columns[0][orderable]=true&columns[0][search][value]=&columns[0][search][regex]=false&columns[1][data]=1&columns[1][name]=&columns[1][searchable]=true&columns[1][orderable]=true&columns[1][search][value]=&columns[1][search][regex]=false&columns[2][data]=2&columns[2][name]=&columns[2][searchable]=true&columns[2][orderable]=true&columns[2][search][value]=&columns[2][search][regex]=false&columns[3][data]=3&columns[3][name]=&columns[3][searchable]=true&columns[3][orderable]=true&columns[3][search][value]=&columns[3][search][regex]=false&columns[4][data]=4&columns[4][name]=&columns[4][searchable]=true&columns[4][orderable]=true&columns[4][search][value]=&columns[4][search][regex]=false&columns[5][data]=5&columns[5][name]=&columns[5][searchable]=true&columns[5][orderable]=true&columns[5][search][value]=&columns[5][search][regex]=false&columns[6][data]=6&columns[6][name]=&columns[6][searchable]=true&columns[6][orderable]=true&columns[6][search][value]=&columns[6][search][regex]=false&order[0][column]=0&order[0][dir]=desc'\r\n",
        "    url = f'{url}&start={page_num*100}&length={100}&search[value]=&search[regex]=true&_=1632743530445'\r\n",
        "    response = requests.get(url)\r\n",
        "    data_json = response.json()\r\n",
        "    data = pd.DataFrame(data_json[\"data\"])\r\n",
        "    data_list.append(data)\r\n",
        "\r\n",
        "# draw : 1,2,3,4,5...\r\n",
        "# start : 0, 100, 200, 300..."
      ],
      "outputs": [
        {
          "output_type": "stream",
          "name": "stderr",
          "text": [
            "100%|██████████| 564/564 [04:20<00:00,  2.16it/s]\n"
          ]
        }
      ],
      "metadata": {}
    },
    {
      "cell_type": "code",
      "execution_count": 16,
      "source": [
        "for page_num in trange(0,500):\r\n",
        "    url2 = f'https://news.seoul.go.kr/api/27/getCorona19Status/get_status_ajax_pre.php?'\r\n",
        "    url2 = f'{url2}draw={page_num+1}&columns[0][data]=0&columns[0][name]=&columns[0][searchable]=true&columns[0][orderable]=true&columns[0][search][value]=&columns[0][search][regex]=false&columns[1][data]=1&columns[1][name]=&columns[1][searchable]=true&columns[1][orderable]=true&columns[1][search][value]=&columns[1][search][regex]=false&columns[2][data]=2&columns[2][name]=&columns[2][searchable]=true&columns[2][orderable]=true&columns[2][search][value]=&columns[2][search][regex]=false&columns[3][data]=3&columns[3][name]=&columns[3][searchable]=true&columns[3][orderable]=true&columns[3][search][value]=&columns[3][search][regex]=false&columns[4][data]=4&columns[4][name]=&columns[4][searchable]=true&columns[4][orderable]=true&columns[4][search][value]=&columns[4][search][regex]=false&columns[5][data]=5&columns[5][name]=&columns[5][searchable]=true&columns[5][orderable]=true&columns[5][search][value]=&columns[5][search][regex]=false&columns[6][data]=6&columns[6][name]=&columns[6][searchable]=true&columns[6][orderable]=true&columns[6][search][value]=&columns[6][search][regex]=false&order[0][column]=0&order[0][dir]=desc'\r\n",
        "    url2 = f'{url2}&start={page_num*100}&length={100}&search[value]=&search[regex]=true&_=1632743530447'\r\n",
        "    response = requests.get(url)\r\n",
        "    data_json = response.json()\r\n",
        "    data = pd.DataFrame(data_json[\"data\"])\r\n",
        "    data_list.append(data)"
      ],
      "outputs": [
        {
          "output_type": "stream",
          "name": "stderr",
          "text": [
            "100%|██████████| 500/500 [03:52<00:00,  2.15it/s]\n"
          ]
        }
      ],
      "metadata": {}
    },
    {
      "cell_type": "code",
      "execution_count": 17,
      "source": [
        "covid_df = pd.concat(data_list)\r\n",
        "covid_df"
      ],
      "outputs": [
        {
          "output_type": "execute_result",
          "data": {
            "text/html": [
              "<div>\n",
              "<style scoped>\n",
              "    .dataframe tbody tr th:only-of-type {\n",
              "        vertical-align: middle;\n",
              "    }\n",
              "\n",
              "    .dataframe tbody tr th {\n",
              "        vertical-align: top;\n",
              "    }\n",
              "\n",
              "    .dataframe thead th {\n",
              "        text-align: right;\n",
              "    }\n",
              "</style>\n",
              "<table border=\"1\" class=\"dataframe\">\n",
              "  <thead>\n",
              "    <tr style=\"text-align: right;\">\n",
              "      <th></th>\n",
              "      <th>0</th>\n",
              "      <th>1</th>\n",
              "      <th>2</th>\n",
              "      <th>3</th>\n",
              "      <th>4</th>\n",
              "      <th>5</th>\n",
              "      <th>6</th>\n",
              "    </tr>\n",
              "  </thead>\n",
              "  <tbody>\n",
              "    <tr>\n",
              "      <th>0</th>\n",
              "      <td>&lt;p class='corona19_no'&gt;106332&lt;/p&gt;</td>\n",
              "      <td>327968</td>\n",
              "      <td>2021-10-07</td>\n",
              "      <td>은평구</td>\n",
              "      <td>-</td>\n",
              "      <td>마포구 소재 시장 관련</td>\n",
              "      <td>&lt;b class=''&gt;-&lt;/b&gt;</td>\n",
              "    </tr>\n",
              "    <tr>\n",
              "      <th>1</th>\n",
              "      <td>&lt;p class='corona19_no'&gt;106331&lt;/p&gt;</td>\n",
              "      <td>327907</td>\n",
              "      <td>2021-10-07</td>\n",
              "      <td>영등포구</td>\n",
              "      <td>-</td>\n",
              "      <td>감염경로 조사중</td>\n",
              "      <td>&lt;b class=''&gt;-&lt;/b&gt;</td>\n",
              "    </tr>\n",
              "    <tr>\n",
              "      <th>2</th>\n",
              "      <td>&lt;p class='corona19_no'&gt;106330&lt;/p&gt;</td>\n",
              "      <td>327842</td>\n",
              "      <td>2021-10-07</td>\n",
              "      <td>구로구</td>\n",
              "      <td>-</td>\n",
              "      <td>감염경로 조사중</td>\n",
              "      <td>&lt;b class=''&gt;-&lt;/b&gt;</td>\n",
              "    </tr>\n",
              "    <tr>\n",
              "      <th>3</th>\n",
              "      <td>&lt;p class='corona19_no'&gt;106329&lt;/p&gt;</td>\n",
              "      <td>327811</td>\n",
              "      <td>2021-10-07</td>\n",
              "      <td>동대문구</td>\n",
              "      <td>-</td>\n",
              "      <td>감염경로 조사중</td>\n",
              "      <td>&lt;b class=''&gt;-&lt;/b&gt;</td>\n",
              "    </tr>\n",
              "    <tr>\n",
              "      <th>4</th>\n",
              "      <td>&lt;p class='corona19_no'&gt;106328&lt;/p&gt;</td>\n",
              "      <td>327703</td>\n",
              "      <td>2021-10-07</td>\n",
              "      <td>성북구</td>\n",
              "      <td>-</td>\n",
              "      <td>감염경로 조사중</td>\n",
              "      <td>&lt;b class=''&gt;-&lt;/b&gt;</td>\n",
              "    </tr>\n",
              "    <tr>\n",
              "      <th>...</th>\n",
              "      <td>...</td>\n",
              "      <td>...</td>\n",
              "      <td>...</td>\n",
              "      <td>...</td>\n",
              "      <td>...</td>\n",
              "      <td>...</td>\n",
              "      <td>...</td>\n",
              "    </tr>\n",
              "    <tr>\n",
              "      <th>27</th>\n",
              "      <td>&lt;p class='corona19_no'&gt;50005&lt;/p&gt;</td>\n",
              "      <td>157446</td>\n",
              "      <td>2021-06-30</td>\n",
              "      <td>성동구</td>\n",
              "      <td>-</td>\n",
              "      <td>기타 확진자 접촉</td>\n",
              "      <td>&lt;b class='status1'&gt;퇴원&lt;/b&gt;</td>\n",
              "    </tr>\n",
              "    <tr>\n",
              "      <th>28</th>\n",
              "      <td>&lt;p class='corona19_no'&gt;50004&lt;/p&gt;</td>\n",
              "      <td>157443</td>\n",
              "      <td>2021-06-30</td>\n",
              "      <td>성동구</td>\n",
              "      <td>-</td>\n",
              "      <td>타시도 확진자 접촉</td>\n",
              "      <td>&lt;b class='status1'&gt;퇴원&lt;/b&gt;</td>\n",
              "    </tr>\n",
              "    <tr>\n",
              "      <th>29</th>\n",
              "      <td>&lt;p class='corona19_no'&gt;50003&lt;/p&gt;</td>\n",
              "      <td>157196</td>\n",
              "      <td>2021-06-30</td>\n",
              "      <td>중랑구</td>\n",
              "      <td>-</td>\n",
              "      <td>감염경로 조사중</td>\n",
              "      <td>&lt;b class='status1'&gt;퇴원&lt;/b&gt;</td>\n",
              "    </tr>\n",
              "    <tr>\n",
              "      <th>30</th>\n",
              "      <td>&lt;p class='corona19_no'&gt;50002&lt;/p&gt;</td>\n",
              "      <td>157129</td>\n",
              "      <td>2021-06-30</td>\n",
              "      <td>동작구</td>\n",
              "      <td>-</td>\n",
              "      <td>기타 확진자 접촉</td>\n",
              "      <td>&lt;b class='status1'&gt;퇴원&lt;/b&gt;</td>\n",
              "    </tr>\n",
              "    <tr>\n",
              "      <th>31</th>\n",
              "      <td>&lt;p class='corona19_no'&gt;50001&lt;/p&gt;</td>\n",
              "      <td>157110</td>\n",
              "      <td>2021-06-30</td>\n",
              "      <td>서초구</td>\n",
              "      <td>-</td>\n",
              "      <td>병원 및 요양시설</td>\n",
              "      <td>&lt;b class='status1'&gt;퇴원&lt;/b&gt;</td>\n",
              "    </tr>\n",
              "  </tbody>\n",
              "</table>\n",
              "<p>72332 rows × 7 columns</p>\n",
              "</div>"
            ],
            "text/plain": [
              "                                    0       1           2     3  4  \\\n",
              "0   <p class='corona19_no'>106332</p>  327968  2021-10-07   은평구  -   \n",
              "1   <p class='corona19_no'>106331</p>  327907  2021-10-07  영등포구  -   \n",
              "2   <p class='corona19_no'>106330</p>  327842  2021-10-07   구로구  -   \n",
              "3   <p class='corona19_no'>106329</p>  327811  2021-10-07  동대문구  -   \n",
              "4   <p class='corona19_no'>106328</p>  327703  2021-10-07   성북구  -   \n",
              "..                                ...     ...         ...   ... ..   \n",
              "27   <p class='corona19_no'>50005</p>  157446  2021-06-30   성동구  -   \n",
              "28   <p class='corona19_no'>50004</p>  157443  2021-06-30   성동구  -   \n",
              "29   <p class='corona19_no'>50003</p>  157196  2021-06-30   중랑구  -   \n",
              "30   <p class='corona19_no'>50002</p>  157129  2021-06-30   동작구  -   \n",
              "31   <p class='corona19_no'>50001</p>  157110  2021-06-30   서초구  -   \n",
              "\n",
              "               5                          6  \n",
              "0   마포구 소재 시장 관련          <b class=''>-</b>  \n",
              "1       감염경로 조사중          <b class=''>-</b>  \n",
              "2       감염경로 조사중          <b class=''>-</b>  \n",
              "3       감염경로 조사중          <b class=''>-</b>  \n",
              "4       감염경로 조사중          <b class=''>-</b>  \n",
              "..           ...                        ...  \n",
              "27     기타 확진자 접촉  <b class='status1'>퇴원</b>  \n",
              "28    타시도 확진자 접촉  <b class='status1'>퇴원</b>  \n",
              "29      감염경로 조사중  <b class='status1'>퇴원</b>  \n",
              "30     기타 확진자 접촉  <b class='status1'>퇴원</b>  \n",
              "31     병원 및 요양시설  <b class='status1'>퇴원</b>  \n",
              "\n",
              "[72332 rows x 7 columns]"
            ]
          },
          "metadata": {},
          "execution_count": 17
        }
      ],
      "metadata": {}
    },
    {
      "cell_type": "code",
      "execution_count": 18,
      "source": [
        "# f-string\r\n",
        "url_current = f'https://news.seoul.go.kr/api/27/getCorona19Status/get_status_ajax.php?draw=1'\r\n",
        "# url_current = f'{url_current}&columns[0][data]=0&columns[0][name]=&columns[0][searchable]=true&columns[0][orderable]=true&columns[0][search][value]=&columns[0][search][regex]=false&columns[1][data]=1&columns[1][name]=&columns[1][searchable]=true&columns[1][orderable]=true&columns[1][search][value]=&columns[1][search][regex]=false&columns[2][data]=2&columns[2][name]=&columns[2][searchable]=true&columns[2][orderable]=true&columns[2][search][value]=&columns[2][search][regex]=false&columns[3][data]=3&columns[3][name]=&columns[3][searchable]=true&columns[3][orderable]=true&columns[3][search][value]=&columns[3][search][regex]=false&columns[4][data]=4&columns[4][name]=&columns[4][searchable]=true&columns[4][orderable]=true&columns[4][search][value]=&columns[4][search][regex]=false&columns[5][data]=5&columns[5][name]=&columns[5][searchable]=true&columns[5][orderable]=true&columns[5][search][value]=&columns[5][search][regex]=false&columns[6][data]=6&columns[6][name]=&columns[6][searchable]=true&columns[6][orderable]=true&columns[6][search][value]=&columns[6][search][regex]=false&order[0][column]=0&order[0][dir]=desc'\r\n",
        "url_current = f'{url_current}&start={0}&length={10}&search[value]=&search[regex]=true&_=1632192367910'\r\n",
        "\r\n",
        "url_pre = f'https://news.seoul.go.kr/api/27/getCorona19Status/get_status_ajax_pre.php?draw=1'\r\n",
        "# url_pre = f'{url_pre}&columns[0][data]=0&columns[0][name]=&columns[0][searchable]=true&columns[0][orderable]=true&columns[0][search][value]=&columns[0][search][regex]=false&columns[1][data]=1&columns[1][name]=&columns[1][searchable]=true&columns[1][orderable]=true&columns[1][search][value]=&columns[1][search][regex]=false&columns[2][data]=2&columns[2][name]=&columns[2][searchable]=true&columns[2][orderable]=true&columns[2][search][value]=&columns[2][search][regex]=false&columns[3][data]=3&columns[3][name]=&columns[3][searchable]=true&columns[3][orderable]=true&columns[3][search][value]=&columns[3][search][regex]=false&columns[4][data]=4&columns[4][name]=&columns[4][searchable]=true&columns[4][orderable]=true&columns[4][search][value]=&columns[4][search][regex]=false&columns[5][data]=5&columns[5][name]=&columns[5][searchable]=true&columns[5][orderable]=true&columns[5][search][value]=&columns[5][search][regex]=false&columns[6][data]=6&columns[6][name]=&columns[6][searchable]=true&columns[6][orderable]=true&columns[6][search][value]=&columns[6][search][regex]=false&order[0][column]=0&order[0][dir]=desc'\r\n",
        "url_pre = f'{url_pre}&start={0}&length={10}&search[value]=&search[regex]=true&_=1632192367920'"
      ],
      "outputs": [],
      "metadata": {
        "id": "GwV9NnZ_6qA4"
      }
    },
    {
      "cell_type": "code",
      "execution_count": 19,
      "source": [
        "import math\r\n",
        "\r\n",
        "response_current = requests.get(url_current)\r\n",
        "data_json_current = response_current.json()\r\n",
        "current_recordsTotal = data_json_current['recordsTotal']\r\n",
        "# print(current_recordsTotal)\r\n",
        "current_page = math.ceil(current_recordsTotal / 100)\r\n",
        "current_page\r\n",
        "\r\n",
        "response_pre = requests.get(url_pre)\r\n",
        "data_json_pre = response_pre.json()\r\n",
        "pre_recordsTotal = data_json_pre['recordsTotal']\r\n",
        "# print(pre_recordsTotal)\r\n",
        "pre_page = math.ceil(pre_recordsTotal / 100)\r\n",
        "pre_page"
      ],
      "outputs": [
        {
          "output_type": "execute_result",
          "data": {
            "text/plain": [
              "500"
            ]
          },
          "metadata": {},
          "execution_count": 19
        }
      ],
      "metadata": {
        "scrolled": false,
        "id": "pav35hpT6qA5"
      }
    },
    {
      "cell_type": "code",
      "execution_count": 20,
      "source": [
        "def get_current_data(page_no):\r\n",
        "    start = (page_no-1) * 100\r\n",
        "    url = f'https://news.seoul.go.kr/api/27/getCorona19Status/get_status_ajax.php?draw={page_no}'\r\n",
        "    url = f'{url}&start={start}&length={100}&search[value]=&search[regex]=true&_=1632192367910'\r\n",
        "    \r\n",
        "    response = requests.get(url)\r\n",
        "    data_json = response.json()\r\n",
        "\r\n",
        "    return data_json\r\n",
        "    \r\n",
        "    \r\n",
        "def get_pre_data(page_no):\r\n",
        "    start = (page_no-1) * 100\r\n",
        "    url = f'https://news.seoul.go.kr/api/27/getCorona19Status/get_status_ajax_pre.php?draw={page_no}'\r\n",
        "    url = f'{url}&start={start}&length={100}&search[value]=&search[regex]=true&_=1632192367920'\r\n",
        "        \r\n",
        "    response = requests.get(url)\r\n",
        "    data_json = response.json()\r\n",
        "\r\n",
        "    return data_json"
      ],
      "outputs": [],
      "metadata": {}
    },
    {
      "cell_type": "code",
      "execution_count": 21,
      "source": [
        "# !pip install tqdm"
      ],
      "outputs": [],
      "metadata": {
        "id": "rFeHCrQf6qA7"
      }
    },
    {
      "cell_type": "code",
      "execution_count": 22,
      "source": [
        "import time #sleep()\r\n",
        "from tqdm import trange # view progress status"
      ],
      "outputs": [],
      "metadata": {
        "id": "2G_zvVsd6qA5"
      }
    },
    {
      "cell_type": "code",
      "execution_count": 23,
      "source": [
        "page_list = []\r\n",
        "for page_no in trange(current_page):\r\n",
        "    current_data = get_current_data(page_no + 1)\r\n",
        "    data = pd.DataFrame(current_data[\"data\"])\r\n",
        "\r\n",
        "    if(len(data)>0):\r\n",
        "        page_list.append(data)\r\n",
        "        # time.sleep(0.5)\r\n",
        "    else : \r\n",
        "        break\r\n",
        "    \r\n",
        "for page_no in trange(pre_page):\r\n",
        "    pre_data = get_pre_data(page_no + 1)\r\n",
        "    data = pd.DataFrame(pre_data[\"data\"])\r\n",
        "    if(len(data)>0):\r\n",
        "        page_list.append(data)\r\n",
        "        # time.sleep(0.5)\r\n",
        "    else : \r\n",
        "        break\r\n",
        "\r\n",
        "pd.concat(page_list)"
      ],
      "outputs": [
        {
          "output_type": "stream",
          "name": "stderr",
          "text": [
            "100%|██████████| 564/564 [04:36<00:00,  2.04it/s]\n",
            "100%|██████████| 500/500 [03:54<00:00,  2.13it/s]\n"
          ]
        },
        {
          "output_type": "execute_result",
          "data": {
            "text/html": [
              "<div>\n",
              "<style scoped>\n",
              "    .dataframe tbody tr th:only-of-type {\n",
              "        vertical-align: middle;\n",
              "    }\n",
              "\n",
              "    .dataframe tbody tr th {\n",
              "        vertical-align: top;\n",
              "    }\n",
              "\n",
              "    .dataframe thead th {\n",
              "        text-align: right;\n",
              "    }\n",
              "</style>\n",
              "<table border=\"1\" class=\"dataframe\">\n",
              "  <thead>\n",
              "    <tr style=\"text-align: right;\">\n",
              "      <th></th>\n",
              "      <th>0</th>\n",
              "      <th>1</th>\n",
              "      <th>2</th>\n",
              "      <th>3</th>\n",
              "      <th>4</th>\n",
              "      <th>5</th>\n",
              "      <th>6</th>\n",
              "    </tr>\n",
              "  </thead>\n",
              "  <tbody>\n",
              "    <tr>\n",
              "      <th>0</th>\n",
              "      <td>&lt;p class='corona19_no'&gt;106332&lt;/p&gt;</td>\n",
              "      <td>327968</td>\n",
              "      <td>2021-10-07</td>\n",
              "      <td>은평구</td>\n",
              "      <td>-</td>\n",
              "      <td>마포구 소재 시장 관련</td>\n",
              "      <td>&lt;b class=''&gt;-&lt;/b&gt;</td>\n",
              "    </tr>\n",
              "    <tr>\n",
              "      <th>1</th>\n",
              "      <td>&lt;p class='corona19_no'&gt;106331&lt;/p&gt;</td>\n",
              "      <td>327907</td>\n",
              "      <td>2021-10-07</td>\n",
              "      <td>영등포구</td>\n",
              "      <td>-</td>\n",
              "      <td>감염경로 조사중</td>\n",
              "      <td>&lt;b class=''&gt;-&lt;/b&gt;</td>\n",
              "    </tr>\n",
              "    <tr>\n",
              "      <th>2</th>\n",
              "      <td>&lt;p class='corona19_no'&gt;106330&lt;/p&gt;</td>\n",
              "      <td>327842</td>\n",
              "      <td>2021-10-07</td>\n",
              "      <td>구로구</td>\n",
              "      <td>-</td>\n",
              "      <td>감염경로 조사중</td>\n",
              "      <td>&lt;b class=''&gt;-&lt;/b&gt;</td>\n",
              "    </tr>\n",
              "    <tr>\n",
              "      <th>3</th>\n",
              "      <td>&lt;p class='corona19_no'&gt;106329&lt;/p&gt;</td>\n",
              "      <td>327811</td>\n",
              "      <td>2021-10-07</td>\n",
              "      <td>동대문구</td>\n",
              "      <td>-</td>\n",
              "      <td>감염경로 조사중</td>\n",
              "      <td>&lt;b class=''&gt;-&lt;/b&gt;</td>\n",
              "    </tr>\n",
              "    <tr>\n",
              "      <th>4</th>\n",
              "      <td>&lt;p class='corona19_no'&gt;106328&lt;/p&gt;</td>\n",
              "      <td>327703</td>\n",
              "      <td>2021-10-07</td>\n",
              "      <td>성북구</td>\n",
              "      <td>-</td>\n",
              "      <td>감염경로 조사중</td>\n",
              "      <td>&lt;b class=''&gt;-&lt;/b&gt;</td>\n",
              "    </tr>\n",
              "    <tr>\n",
              "      <th>...</th>\n",
              "      <td>...</td>\n",
              "      <td>...</td>\n",
              "      <td>...</td>\n",
              "      <td>...</td>\n",
              "      <td>...</td>\n",
              "      <td>...</td>\n",
              "      <td>...</td>\n",
              "    </tr>\n",
              "    <tr>\n",
              "      <th>95</th>\n",
              "      <td>&lt;p class='corona19_no'&gt;5&lt;/p&gt;</td>\n",
              "      <td>9</td>\n",
              "      <td>2020-01-31</td>\n",
              "      <td>성북구</td>\n",
              "      <td>-</td>\n",
              "      <td>기타 확진자 접촉</td>\n",
              "      <td>&lt;b class='status1'&gt;퇴원&lt;/b&gt;</td>\n",
              "    </tr>\n",
              "    <tr>\n",
              "      <th>96</th>\n",
              "      <td>&lt;p class='corona19_no'&gt;4&lt;/p&gt;</td>\n",
              "      <td>7</td>\n",
              "      <td>2020-01-30</td>\n",
              "      <td>마포구</td>\n",
              "      <td>중국</td>\n",
              "      <td>해외유입</td>\n",
              "      <td>&lt;b class='status1'&gt;퇴원&lt;/b&gt;</td>\n",
              "    </tr>\n",
              "    <tr>\n",
              "      <th>97</th>\n",
              "      <td>&lt;p class='corona19_no'&gt;3&lt;/p&gt;</td>\n",
              "      <td>6</td>\n",
              "      <td>2020-01-30</td>\n",
              "      <td>종로구</td>\n",
              "      <td>-</td>\n",
              "      <td>종로구 집단발병</td>\n",
              "      <td>&lt;b class='status1'&gt;퇴원&lt;/b&gt;</td>\n",
              "    </tr>\n",
              "    <tr>\n",
              "      <th>98</th>\n",
              "      <td>&lt;p class='corona19_no'&gt;2&lt;/p&gt;</td>\n",
              "      <td>5</td>\n",
              "      <td>2020-01-30</td>\n",
              "      <td>중랑구</td>\n",
              "      <td>중국</td>\n",
              "      <td>해외유입</td>\n",
              "      <td>&lt;b class='status1'&gt;퇴원&lt;/b&gt;</td>\n",
              "    </tr>\n",
              "    <tr>\n",
              "      <th>99</th>\n",
              "      <td>&lt;p class='corona19_no'&gt;1&lt;/p&gt;</td>\n",
              "      <td>2</td>\n",
              "      <td>2020-01-24</td>\n",
              "      <td>강서구</td>\n",
              "      <td>중국</td>\n",
              "      <td>해외유입</td>\n",
              "      <td>&lt;b class='status1'&gt;퇴원&lt;/b&gt;</td>\n",
              "    </tr>\n",
              "  </tbody>\n",
              "</table>\n",
              "<p>106332 rows × 7 columns</p>\n",
              "</div>"
            ],
            "text/plain": [
              "                                    0       1           2     3   4  \\\n",
              "0   <p class='corona19_no'>106332</p>  327968  2021-10-07   은평구   -   \n",
              "1   <p class='corona19_no'>106331</p>  327907  2021-10-07  영등포구   -   \n",
              "2   <p class='corona19_no'>106330</p>  327842  2021-10-07   구로구   -   \n",
              "3   <p class='corona19_no'>106329</p>  327811  2021-10-07  동대문구   -   \n",
              "4   <p class='corona19_no'>106328</p>  327703  2021-10-07   성북구   -   \n",
              "..                                ...     ...         ...   ...  ..   \n",
              "95       <p class='corona19_no'>5</p>       9  2020-01-31   성북구   -   \n",
              "96       <p class='corona19_no'>4</p>       7  2020-01-30   마포구  중국   \n",
              "97       <p class='corona19_no'>3</p>       6  2020-01-30   종로구   -   \n",
              "98       <p class='corona19_no'>2</p>       5  2020-01-30   중랑구  중국   \n",
              "99       <p class='corona19_no'>1</p>       2  2020-01-24   강서구  중국   \n",
              "\n",
              "               5                          6  \n",
              "0   마포구 소재 시장 관련          <b class=''>-</b>  \n",
              "1       감염경로 조사중          <b class=''>-</b>  \n",
              "2       감염경로 조사중          <b class=''>-</b>  \n",
              "3       감염경로 조사중          <b class=''>-</b>  \n",
              "4       감염경로 조사중          <b class=''>-</b>  \n",
              "..           ...                        ...  \n",
              "95     기타 확진자 접촉  <b class='status1'>퇴원</b>  \n",
              "96          해외유입  <b class='status1'>퇴원</b>  \n",
              "97      종로구 집단발병  <b class='status1'>퇴원</b>  \n",
              "98          해외유입  <b class='status1'>퇴원</b>  \n",
              "99          해외유입  <b class='status1'>퇴원</b>  \n",
              "\n",
              "[106332 rows x 7 columns]"
            ]
          },
          "metadata": {},
          "execution_count": 23
        }
      ],
      "metadata": {
        "id": "cLiZpWN46qA6"
      }
    },
    {
      "cell_type": "code",
      "execution_count": 24,
      "source": [
        "covid_df = pd.concat(page_list)"
      ],
      "outputs": [],
      "metadata": {
        "id": "LZe4qKy06qA-"
      }
    },
    {
      "cell_type": "code",
      "execution_count": 25,
      "source": [
        "# read_html 로 읽어온 3번째 테이블의 컬럼명을 수집한 데이터의 컬럼으로 사용합니다.\r\n",
        "cols = ['연번', '환자', '확진일', '거주지', '여행력', '접촉력', '퇴원현황']"
      ],
      "outputs": [],
      "metadata": {
        "id": "BelQPv1W6qA-"
      }
    },
    {
      "cell_type": "code",
      "execution_count": 26,
      "source": [
        "covid_df.columns = cols"
      ],
      "outputs": [],
      "metadata": {
        "id": "sP80fXaN6qA-"
      }
    },
    {
      "cell_type": "code",
      "execution_count": 27,
      "source": [
        "covid_df.head()"
      ],
      "outputs": [
        {
          "output_type": "execute_result",
          "data": {
            "text/html": [
              "<div>\n",
              "<style scoped>\n",
              "    .dataframe tbody tr th:only-of-type {\n",
              "        vertical-align: middle;\n",
              "    }\n",
              "\n",
              "    .dataframe tbody tr th {\n",
              "        vertical-align: top;\n",
              "    }\n",
              "\n",
              "    .dataframe thead th {\n",
              "        text-align: right;\n",
              "    }\n",
              "</style>\n",
              "<table border=\"1\" class=\"dataframe\">\n",
              "  <thead>\n",
              "    <tr style=\"text-align: right;\">\n",
              "      <th></th>\n",
              "      <th>연번</th>\n",
              "      <th>환자</th>\n",
              "      <th>확진일</th>\n",
              "      <th>거주지</th>\n",
              "      <th>여행력</th>\n",
              "      <th>접촉력</th>\n",
              "      <th>퇴원현황</th>\n",
              "    </tr>\n",
              "  </thead>\n",
              "  <tbody>\n",
              "    <tr>\n",
              "      <th>0</th>\n",
              "      <td>&lt;p class='corona19_no'&gt;106332&lt;/p&gt;</td>\n",
              "      <td>327968</td>\n",
              "      <td>2021-10-07</td>\n",
              "      <td>은평구</td>\n",
              "      <td>-</td>\n",
              "      <td>마포구 소재 시장 관련</td>\n",
              "      <td>&lt;b class=''&gt;-&lt;/b&gt;</td>\n",
              "    </tr>\n",
              "    <tr>\n",
              "      <th>1</th>\n",
              "      <td>&lt;p class='corona19_no'&gt;106331&lt;/p&gt;</td>\n",
              "      <td>327907</td>\n",
              "      <td>2021-10-07</td>\n",
              "      <td>영등포구</td>\n",
              "      <td>-</td>\n",
              "      <td>감염경로 조사중</td>\n",
              "      <td>&lt;b class=''&gt;-&lt;/b&gt;</td>\n",
              "    </tr>\n",
              "    <tr>\n",
              "      <th>2</th>\n",
              "      <td>&lt;p class='corona19_no'&gt;106330&lt;/p&gt;</td>\n",
              "      <td>327842</td>\n",
              "      <td>2021-10-07</td>\n",
              "      <td>구로구</td>\n",
              "      <td>-</td>\n",
              "      <td>감염경로 조사중</td>\n",
              "      <td>&lt;b class=''&gt;-&lt;/b&gt;</td>\n",
              "    </tr>\n",
              "    <tr>\n",
              "      <th>3</th>\n",
              "      <td>&lt;p class='corona19_no'&gt;106329&lt;/p&gt;</td>\n",
              "      <td>327811</td>\n",
              "      <td>2021-10-07</td>\n",
              "      <td>동대문구</td>\n",
              "      <td>-</td>\n",
              "      <td>감염경로 조사중</td>\n",
              "      <td>&lt;b class=''&gt;-&lt;/b&gt;</td>\n",
              "    </tr>\n",
              "    <tr>\n",
              "      <th>4</th>\n",
              "      <td>&lt;p class='corona19_no'&gt;106328&lt;/p&gt;</td>\n",
              "      <td>327703</td>\n",
              "      <td>2021-10-07</td>\n",
              "      <td>성북구</td>\n",
              "      <td>-</td>\n",
              "      <td>감염경로 조사중</td>\n",
              "      <td>&lt;b class=''&gt;-&lt;/b&gt;</td>\n",
              "    </tr>\n",
              "  </tbody>\n",
              "</table>\n",
              "</div>"
            ],
            "text/plain": [
              "                                  연번      환자         확진일   거주지 여행력  \\\n",
              "0  <p class='corona19_no'>106332</p>  327968  2021-10-07   은평구   -   \n",
              "1  <p class='corona19_no'>106331</p>  327907  2021-10-07  영등포구   -   \n",
              "2  <p class='corona19_no'>106330</p>  327842  2021-10-07   구로구   -   \n",
              "3  <p class='corona19_no'>106329</p>  327811  2021-10-07  동대문구   -   \n",
              "4  <p class='corona19_no'>106328</p>  327703  2021-10-07   성북구   -   \n",
              "\n",
              "            접촉력               퇴원현황  \n",
              "0  마포구 소재 시장 관련  <b class=''>-</b>  \n",
              "1      감염경로 조사중  <b class=''>-</b>  \n",
              "2      감염경로 조사중  <b class=''>-</b>  \n",
              "3      감염경로 조사중  <b class=''>-</b>  \n",
              "4      감염경로 조사중  <b class=''>-</b>  "
            ]
          },
          "metadata": {},
          "execution_count": 27
        }
      ],
      "metadata": {
        "id": "bio7AQdH6qA-"
      }
    },
    {
      "cell_type": "code",
      "execution_count": 45,
      "source": [
        "covid_df.shape"
      ],
      "outputs": [
        {
          "output_type": "execute_result",
          "data": {
            "text/plain": [
              "(106332, 7)"
            ]
          },
          "metadata": {},
          "execution_count": 45
        }
      ],
      "metadata": {
        "id": "Ldt5Ua-b6qA-"
      }
    },
    {
      "cell_type": "markdown",
      "source": [
        "## 데이터 전처리\n",
        "### 연번과 퇴원현황 "
      ],
      "metadata": {
        "id": "uA7AkLAC6qA-"
      }
    },
    {
      "cell_type": "code",
      "execution_count": 29,
      "source": [
        "import re\r\n",
        "def extract_number(num_string):\r\n",
        "    if type(num_string) == str:\r\n",
        "        num_string = num_string.replace(\"corona19\", \"\")\r\n",
        "        num = re.sub(\"[^0-9]\", \"\", num_string)\r\n",
        "        num = int(num)\r\n",
        "        return num\r\n",
        "    else:\r\n",
        "        return num_string"
      ],
      "outputs": [],
      "metadata": {
        "id": "5WTV_Dlp6qA-"
      }
    },
    {
      "cell_type": "code",
      "execution_count": 47,
      "source": [
        "num_string = \"<p class='corona19_no'>97655</p>\"\r\n",
        "extract_number(num_string)"
      ],
      "outputs": [
        {
          "output_type": "execute_result",
          "data": {
            "text/plain": [
              "97655"
            ]
          },
          "metadata": {},
          "execution_count": 47
        }
      ],
      "metadata": {
        "id": "pVrRTUhT6qA-"
      }
    },
    {
      "cell_type": "code",
      "execution_count": 48,
      "source": [
        "covid_df[\"연번\"] = covid_df[\"연번\"].map(extract_number)"
      ],
      "outputs": [],
      "metadata": {
        "id": "TSCjSLBn6qA_"
      }
    },
    {
      "cell_type": "code",
      "execution_count": 49,
      "source": [
        "covid_df.tail()"
      ],
      "outputs": [
        {
          "output_type": "execute_result",
          "data": {
            "text/html": [
              "<div>\n",
              "<style scoped>\n",
              "    .dataframe tbody tr th:only-of-type {\n",
              "        vertical-align: middle;\n",
              "    }\n",
              "\n",
              "    .dataframe tbody tr th {\n",
              "        vertical-align: top;\n",
              "    }\n",
              "\n",
              "    .dataframe thead th {\n",
              "        text-align: right;\n",
              "    }\n",
              "</style>\n",
              "<table border=\"1\" class=\"dataframe\">\n",
              "  <thead>\n",
              "    <tr style=\"text-align: right;\">\n",
              "      <th></th>\n",
              "      <th>연번</th>\n",
              "      <th>환자</th>\n",
              "      <th>확진일</th>\n",
              "      <th>거주지</th>\n",
              "      <th>여행력</th>\n",
              "      <th>접촉력</th>\n",
              "      <th>퇴원현황</th>\n",
              "    </tr>\n",
              "  </thead>\n",
              "  <tbody>\n",
              "    <tr>\n",
              "      <th>95</th>\n",
              "      <td>5</td>\n",
              "      <td>9</td>\n",
              "      <td>2020-01-31</td>\n",
              "      <td>성북구</td>\n",
              "      <td>-</td>\n",
              "      <td>기타 확진자 접촉</td>\n",
              "      <td>퇴원</td>\n",
              "    </tr>\n",
              "    <tr>\n",
              "      <th>96</th>\n",
              "      <td>4</td>\n",
              "      <td>7</td>\n",
              "      <td>2020-01-30</td>\n",
              "      <td>마포구</td>\n",
              "      <td>중국</td>\n",
              "      <td>해외유입</td>\n",
              "      <td>퇴원</td>\n",
              "    </tr>\n",
              "    <tr>\n",
              "      <th>97</th>\n",
              "      <td>3</td>\n",
              "      <td>6</td>\n",
              "      <td>2020-01-30</td>\n",
              "      <td>종로구</td>\n",
              "      <td>-</td>\n",
              "      <td>종로구 집단발병</td>\n",
              "      <td>퇴원</td>\n",
              "    </tr>\n",
              "    <tr>\n",
              "      <th>98</th>\n",
              "      <td>2</td>\n",
              "      <td>5</td>\n",
              "      <td>2020-01-30</td>\n",
              "      <td>중랑구</td>\n",
              "      <td>중국</td>\n",
              "      <td>해외유입</td>\n",
              "      <td>퇴원</td>\n",
              "    </tr>\n",
              "    <tr>\n",
              "      <th>99</th>\n",
              "      <td>1</td>\n",
              "      <td>2</td>\n",
              "      <td>2020-01-24</td>\n",
              "      <td>강서구</td>\n",
              "      <td>중국</td>\n",
              "      <td>해외유입</td>\n",
              "      <td>퇴원</td>\n",
              "    </tr>\n",
              "  </tbody>\n",
              "</table>\n",
              "</div>"
            ],
            "text/plain": [
              "    연번 환자         확진일  거주지 여행력        접촉력 퇴원현황\n",
              "95   5  9  2020-01-31  성북구   -  기타 확진자 접촉   퇴원\n",
              "96   4  7  2020-01-30  마포구  중국       해외유입   퇴원\n",
              "97   3  6  2020-01-30  종로구   -   종로구 집단발병   퇴원\n",
              "98   2  5  2020-01-30  중랑구  중국       해외유입   퇴원\n",
              "99   1  2  2020-01-24  강서구  중국       해외유입   퇴원"
            ]
          },
          "metadata": {},
          "execution_count": 49
        }
      ],
      "metadata": {
        "id": "jlcVkMOP6qA_"
      }
    },
    {
      "cell_type": "code",
      "execution_count": 51,
      "source": [
        "def extract_hangeul(origin_text):\r\n",
        "    subtract_text = re.sub(\"[^가-힣]\", \"\", origin_text)\r\n",
        "    return subtract_text\r\n",
        "\r\n",
        "covid_df[\"퇴원현황\"] = covid_df[\"퇴원현황\"].map(extract_hangeul)\r\n",
        "covid_df.tail()"
      ],
      "outputs": [
        {
          "output_type": "execute_result",
          "data": {
            "text/html": [
              "<div>\n",
              "<style scoped>\n",
              "    .dataframe tbody tr th:only-of-type {\n",
              "        vertical-align: middle;\n",
              "    }\n",
              "\n",
              "    .dataframe tbody tr th {\n",
              "        vertical-align: top;\n",
              "    }\n",
              "\n",
              "    .dataframe thead th {\n",
              "        text-align: right;\n",
              "    }\n",
              "</style>\n",
              "<table border=\"1\" class=\"dataframe\">\n",
              "  <thead>\n",
              "    <tr style=\"text-align: right;\">\n",
              "      <th></th>\n",
              "      <th>연번</th>\n",
              "      <th>환자</th>\n",
              "      <th>확진일</th>\n",
              "      <th>거주지</th>\n",
              "      <th>여행력</th>\n",
              "      <th>접촉력</th>\n",
              "      <th>퇴원현황</th>\n",
              "    </tr>\n",
              "  </thead>\n",
              "  <tbody>\n",
              "    <tr>\n",
              "      <th>95</th>\n",
              "      <td>5</td>\n",
              "      <td>9</td>\n",
              "      <td>2020-01-31</td>\n",
              "      <td>성북구</td>\n",
              "      <td>-</td>\n",
              "      <td>기타 확진자 접촉</td>\n",
              "      <td>퇴원</td>\n",
              "    </tr>\n",
              "    <tr>\n",
              "      <th>96</th>\n",
              "      <td>4</td>\n",
              "      <td>7</td>\n",
              "      <td>2020-01-30</td>\n",
              "      <td>마포구</td>\n",
              "      <td>중국</td>\n",
              "      <td>해외유입</td>\n",
              "      <td>퇴원</td>\n",
              "    </tr>\n",
              "    <tr>\n",
              "      <th>97</th>\n",
              "      <td>3</td>\n",
              "      <td>6</td>\n",
              "      <td>2020-01-30</td>\n",
              "      <td>종로구</td>\n",
              "      <td>-</td>\n",
              "      <td>종로구 집단발병</td>\n",
              "      <td>퇴원</td>\n",
              "    </tr>\n",
              "    <tr>\n",
              "      <th>98</th>\n",
              "      <td>2</td>\n",
              "      <td>5</td>\n",
              "      <td>2020-01-30</td>\n",
              "      <td>중랑구</td>\n",
              "      <td>중국</td>\n",
              "      <td>해외유입</td>\n",
              "      <td>퇴원</td>\n",
              "    </tr>\n",
              "    <tr>\n",
              "      <th>99</th>\n",
              "      <td>1</td>\n",
              "      <td>2</td>\n",
              "      <td>2020-01-24</td>\n",
              "      <td>강서구</td>\n",
              "      <td>중국</td>\n",
              "      <td>해외유입</td>\n",
              "      <td>퇴원</td>\n",
              "    </tr>\n",
              "  </tbody>\n",
              "</table>\n",
              "</div>"
            ],
            "text/plain": [
              "    연번 환자         확진일  거주지 여행력        접촉력 퇴원현황\n",
              "95   5  9  2020-01-31  성북구   -  기타 확진자 접촉   퇴원\n",
              "96   4  7  2020-01-30  마포구  중국       해외유입   퇴원\n",
              "97   3  6  2020-01-30  종로구   -   종로구 집단발병   퇴원\n",
              "98   2  5  2020-01-30  중랑구  중국       해외유입   퇴원\n",
              "99   1  2  2020-01-24  강서구  중국       해외유입   퇴원"
            ]
          },
          "metadata": {},
          "execution_count": 51
        }
      ],
      "metadata": {
        "id": "b6PzrO006qA_"
      }
    },
    {
      "cell_type": "code",
      "execution_count": 52,
      "source": [
        "extract_hangeul(\"<b class='status1'>퇴원</b>\")"
      ],
      "outputs": [
        {
          "output_type": "execute_result",
          "data": {
            "text/plain": [
              "'퇴원'"
            ]
          },
          "metadata": {},
          "execution_count": 52
        }
      ],
      "metadata": {
        "id": "iSWEJ7e06qA_"
      }
    },
    {
      "cell_type": "code",
      "execution_count": 53,
      "source": [
        "extract_hangeul(\"<b class='status2'>사망</b>\")"
      ],
      "outputs": [
        {
          "output_type": "execute_result",
          "data": {
            "text/plain": [
              "'사망'"
            ]
          },
          "metadata": {},
          "execution_count": 53
        }
      ],
      "metadata": {
        "id": "QvzU1QNp6qA_"
      }
    },
    {
      "cell_type": "code",
      "execution_count": 54,
      "source": [
        "extract_hangeul(\"<b class=''>-</b>\")"
      ],
      "outputs": [
        {
          "output_type": "execute_result",
          "data": {
            "text/plain": [
              "''"
            ]
          },
          "metadata": {},
          "execution_count": 54
        }
      ],
      "metadata": {
        "id": "kvreg3Cs6qA_"
      }
    },
    {
      "cell_type": "code",
      "execution_count": 37,
      "source": [
        "# 정규표현식으로 변경하는 방법도 있고 str.contains를 사용하는 방법도 있습니다.\r\n",
        "# df_all[\"퇴원현황\"] = df_all[\"퇴원현황\"].map(extract_hangeul)\r\n",
        "# df_all[\"퇴원현황\"].value_counts()"
      ],
      "outputs": [],
      "metadata": {
        "id": "BwzPRDRQ6qA_"
      }
    },
    {
      "cell_type": "code",
      "execution_count": 55,
      "source": [
        "covid_df[\"퇴원현황\"].value_counts()"
      ],
      "outputs": [
        {
          "output_type": "execute_result",
          "data": {
            "text/plain": [
              "퇴원    90141\n",
              "      15518\n",
              "사망      673\n",
              "Name: 퇴원현황, dtype: int64"
            ]
          },
          "metadata": {},
          "execution_count": 55
        }
      ],
      "metadata": {
        "id": "b39PuVQh6qA_"
      }
    },
    {
      "cell_type": "code",
      "execution_count": 39,
      "source": [
        "# covid_df.loc[covid_df[\"퇴원현황\"].str.contains(\"퇴원\"), \"퇴원현황\"] = \"퇴원\"\r\n",
        "# covid_df.loc[covid_df[\"퇴원현황\"].str.contains(\"사망\"), \"퇴원현황\"] = \"사망\"\r\n",
        "# covid_df.loc[~covid_df[\"퇴원현황\"].str.contains(\"퇴원|사망\"), \"퇴원현황\"] = np.nan\r\n",
        "# covid_df[\"퇴원현황\"].value_counts()"
      ],
      "outputs": [],
      "metadata": {
        "id": "9UdfBODB6qA_"
      }
    },
    {
      "cell_type": "code",
      "execution_count": 57,
      "source": [
        "last_date = covid_df.iloc[0][\"확진일\"]\r\n",
        "last_date"
      ],
      "outputs": [
        {
          "output_type": "execute_result",
          "data": {
            "text/plain": [
              "'2021-10-07'"
            ]
          },
          "metadata": {},
          "execution_count": 57
        }
      ],
      "metadata": {
        "id": "uMShQW2g6qBA"
      }
    },
    {
      "cell_type": "code",
      "execution_count": 41,
      "source": [
        "# 마지막 확진일을 파일명에 써주기 위해 . 을 _ 로 변경합니다.\r\n",
        "# 확장자와 구분이 쉽게 되도록 _ 로 변경합니다. \r\n",
        "# date = last_date.replace(\".\", \"_\")\r\n",
        "# date"
      ],
      "outputs": [],
      "metadata": {
        "id": "QKnroW3I6qBA"
      }
    },
    {
      "cell_type": "code",
      "execution_count": 58,
      "source": [
        "# 파일명을 만들어 줍니다.\r\n",
        "# file_name\r\n",
        "\r\n",
        "file_name = f\"seoul-covid19-{last_date}.csv\"\r\n",
        "file_name"
      ],
      "outputs": [
        {
          "output_type": "execute_result",
          "data": {
            "text/plain": [
              "'seoul-covid19-2021-10-07.csv'"
            ]
          },
          "metadata": {},
          "execution_count": 58
        }
      ],
      "metadata": {
        "id": "wb1K0Lc66qBA"
      }
    },
    {
      "cell_type": "code",
      "execution_count": 43,
      "source": [
        "# csv 파일로 저장합니다.\r\n",
        "covid_df.to_csv(file_name, index=False)"
      ],
      "outputs": [],
      "metadata": {
        "id": "d6GgUZE86qBA"
      }
    },
    {
      "cell_type": "code",
      "execution_count": 44,
      "source": [
        "# 제대로 저장되었는지 확인합니다.\r\n",
        "pd.read_csv(file_name)"
      ],
      "outputs": [
        {
          "output_type": "execute_result",
          "data": {
            "text/html": [
              "<div>\n",
              "<style scoped>\n",
              "    .dataframe tbody tr th:only-of-type {\n",
              "        vertical-align: middle;\n",
              "    }\n",
              "\n",
              "    .dataframe tbody tr th {\n",
              "        vertical-align: top;\n",
              "    }\n",
              "\n",
              "    .dataframe thead th {\n",
              "        text-align: right;\n",
              "    }\n",
              "</style>\n",
              "<table border=\"1\" class=\"dataframe\">\n",
              "  <thead>\n",
              "    <tr style=\"text-align: right;\">\n",
              "      <th></th>\n",
              "      <th>연번</th>\n",
              "      <th>환자</th>\n",
              "      <th>확진일</th>\n",
              "      <th>거주지</th>\n",
              "      <th>여행력</th>\n",
              "      <th>접촉력</th>\n",
              "      <th>퇴원현황</th>\n",
              "    </tr>\n",
              "  </thead>\n",
              "  <tbody>\n",
              "    <tr>\n",
              "      <th>0</th>\n",
              "      <td>106332</td>\n",
              "      <td>327968</td>\n",
              "      <td>2021-10-07</td>\n",
              "      <td>은평구</td>\n",
              "      <td>-</td>\n",
              "      <td>마포구 소재 시장 관련</td>\n",
              "      <td>NaN</td>\n",
              "    </tr>\n",
              "    <tr>\n",
              "      <th>1</th>\n",
              "      <td>106331</td>\n",
              "      <td>327907</td>\n",
              "      <td>2021-10-07</td>\n",
              "      <td>영등포구</td>\n",
              "      <td>-</td>\n",
              "      <td>감염경로 조사중</td>\n",
              "      <td>NaN</td>\n",
              "    </tr>\n",
              "    <tr>\n",
              "      <th>2</th>\n",
              "      <td>106330</td>\n",
              "      <td>327842</td>\n",
              "      <td>2021-10-07</td>\n",
              "      <td>구로구</td>\n",
              "      <td>-</td>\n",
              "      <td>감염경로 조사중</td>\n",
              "      <td>NaN</td>\n",
              "    </tr>\n",
              "    <tr>\n",
              "      <th>3</th>\n",
              "      <td>106329</td>\n",
              "      <td>327811</td>\n",
              "      <td>2021-10-07</td>\n",
              "      <td>동대문구</td>\n",
              "      <td>-</td>\n",
              "      <td>감염경로 조사중</td>\n",
              "      <td>NaN</td>\n",
              "    </tr>\n",
              "    <tr>\n",
              "      <th>4</th>\n",
              "      <td>106328</td>\n",
              "      <td>327703</td>\n",
              "      <td>2021-10-07</td>\n",
              "      <td>성북구</td>\n",
              "      <td>-</td>\n",
              "      <td>감염경로 조사중</td>\n",
              "      <td>NaN</td>\n",
              "    </tr>\n",
              "    <tr>\n",
              "      <th>...</th>\n",
              "      <td>...</td>\n",
              "      <td>...</td>\n",
              "      <td>...</td>\n",
              "      <td>...</td>\n",
              "      <td>...</td>\n",
              "      <td>...</td>\n",
              "      <td>...</td>\n",
              "    </tr>\n",
              "    <tr>\n",
              "      <th>106327</th>\n",
              "      <td>5</td>\n",
              "      <td>9</td>\n",
              "      <td>2020-01-31</td>\n",
              "      <td>성북구</td>\n",
              "      <td>-</td>\n",
              "      <td>기타 확진자 접촉</td>\n",
              "      <td>퇴원</td>\n",
              "    </tr>\n",
              "    <tr>\n",
              "      <th>106328</th>\n",
              "      <td>4</td>\n",
              "      <td>7</td>\n",
              "      <td>2020-01-30</td>\n",
              "      <td>마포구</td>\n",
              "      <td>중국</td>\n",
              "      <td>해외유입</td>\n",
              "      <td>퇴원</td>\n",
              "    </tr>\n",
              "    <tr>\n",
              "      <th>106329</th>\n",
              "      <td>3</td>\n",
              "      <td>6</td>\n",
              "      <td>2020-01-30</td>\n",
              "      <td>종로구</td>\n",
              "      <td>-</td>\n",
              "      <td>종로구 집단발병</td>\n",
              "      <td>퇴원</td>\n",
              "    </tr>\n",
              "    <tr>\n",
              "      <th>106330</th>\n",
              "      <td>2</td>\n",
              "      <td>5</td>\n",
              "      <td>2020-01-30</td>\n",
              "      <td>중랑구</td>\n",
              "      <td>중국</td>\n",
              "      <td>해외유입</td>\n",
              "      <td>퇴원</td>\n",
              "    </tr>\n",
              "    <tr>\n",
              "      <th>106331</th>\n",
              "      <td>1</td>\n",
              "      <td>2</td>\n",
              "      <td>2020-01-24</td>\n",
              "      <td>강서구</td>\n",
              "      <td>중국</td>\n",
              "      <td>해외유입</td>\n",
              "      <td>퇴원</td>\n",
              "    </tr>\n",
              "  </tbody>\n",
              "</table>\n",
              "<p>106332 rows × 7 columns</p>\n",
              "</div>"
            ],
            "text/plain": [
              "            연번      환자         확진일   거주지 여행력           접촉력 퇴원현황\n",
              "0       106332  327968  2021-10-07   은평구   -  마포구 소재 시장 관련  NaN\n",
              "1       106331  327907  2021-10-07  영등포구   -      감염경로 조사중  NaN\n",
              "2       106330  327842  2021-10-07   구로구   -      감염경로 조사중  NaN\n",
              "3       106329  327811  2021-10-07  동대문구   -      감염경로 조사중  NaN\n",
              "4       106328  327703  2021-10-07   성북구   -      감염경로 조사중  NaN\n",
              "...        ...     ...         ...   ...  ..           ...  ...\n",
              "106327       5       9  2020-01-31   성북구   -     기타 확진자 접촉   퇴원\n",
              "106328       4       7  2020-01-30   마포구  중국          해외유입   퇴원\n",
              "106329       3       6  2020-01-30   종로구   -      종로구 집단발병   퇴원\n",
              "106330       2       5  2020-01-30   중랑구  중국          해외유입   퇴원\n",
              "106331       1       2  2020-01-24   강서구  중국          해외유입   퇴원\n",
              "\n",
              "[106332 rows x 7 columns]"
            ]
          },
          "metadata": {},
          "execution_count": 44
        }
      ],
      "metadata": {
        "id": "I3_Ackf76qBA"
      }
    }
  ]
}